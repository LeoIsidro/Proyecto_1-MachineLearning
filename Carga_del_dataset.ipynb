{
 "cells": [
  {
   "cell_type": "code",
   "execution_count": 15,
   "metadata": {},
   "outputs": [],
   "source": [
    "import numpy as np\n",
    "import pandas as pd\n",
    "from  skimage.io import imread, imshow\n",
    "from pathlib import Path\n",
    "import pywt\n",
    "import pywt.data\n",
    "from PIL import Image\n",
    "import os\n",
    "\n",
    "def Get_Feacture(picture, cortes):\n",
    "  LL = picture\n",
    "  for i in range(cortes):\n",
    "     LL, (LH, HL, HH) = pywt.dwt2(LL, 'haar')\n",
    "  return LL.flatten().tolist()\n",
    "\n",
    "def redimensionar(path):\n",
    "   imagenes=[]\n",
    "   entries = Path(path)\n",
    "   for entry in entries.iterdir():\n",
    "      imagenes.append(path + entry.name)\n",
    "\n",
    "   # Tamaño deseado para todas las imágenes\n",
    "   ancho_deseado = 300\n",
    "   alto_deseado = 200\n",
    "\n",
    "   # Carpeta de destino para las imágenes redimensionadas\n",
    "   carpeta_destino = \"imagenes_1\"\n",
    "\n",
    "   # Crea la carpeta de destino si no existe\n",
    "   if not os.path.exists(carpeta_destino):\n",
    "      os.makedirs(carpeta_destino)\n",
    "\n",
    "   # Recorre la lista de imágenes y redimensiona y guarda cada una\n",
    "   for ruta_imagen in imagenes:\n",
    "      imagen = Image.open(ruta_imagen)\n",
    "      \n",
    "      # Redimensiona la imagen al tamaño deseado con interpolación ANTIALIAS\n",
    "      imagen_redimensionada = imagen.resize((ancho_deseado, alto_deseado), Image.ADAPTIVE)\n",
    "      \n",
    "      # Obtiene el nombre de archivo sin la ruta\n",
    "      nombre_archivo = os.path.basename(ruta_imagen)\n",
    "      \n",
    "      # Define la ruta de archivo de destino en la carpeta de destino\n",
    "      ruta_destino = os.path.join(carpeta_destino, nombre_archivo)\n",
    "      \n",
    "      # Guarda la imagen redimensionada en la carpeta de destino\n",
    "      imagen_redimensionada.save(ruta_destino)     \n"
   ]
  },
  {
   "cell_type": "code",
   "execution_count": 18,
   "metadata": {},
   "outputs": [],
   "source": [
    "redimensionar(\"./images/\")\n",
    "path = \"./imagenes_1/\"\n",
    "vectores_caracteristicos=[]\n",
    "entries = Path(path)\n",
    "for entry in entries.iterdir():\n",
    "  imagen = path + entry.name\n",
    "  picture = imread(imagen)\n",
    "  vectores_caracteristicos.append(Get_Feacture(picture,2))"
   ]
  },
  {
   "cell_type": "code",
   "execution_count": 19,
   "metadata": {},
   "outputs": [],
   "source": [
    "import random\n",
    "# Calcula las longitudes deseadas de las tres partes\n",
    "total_elementos = len(vectores_caracteristicos)\n",
    "primer_porcentaje = 0.70\n",
    "segundo_porcentaje = 0.15\n",
    "tercer_porcentaje = 0.15\n",
    "\n",
    "# Calcula la cantidad de elementos en cada parte\n",
    "primer_parte = round(total_elementos * primer_porcentaje)\n",
    "segunda_parte = round(total_elementos * segundo_porcentaje)\n",
    "tercera_parte = round(total_elementos * tercer_porcentaje)\n",
    "\n",
    "# Mezcla la lista para que los elementos estén en orden aleatorio\n",
    "random.shuffle(vectores_caracteristicos)\n",
    "\n",
    "# Divide la lista en tres partes según las longitudes calculadas\n",
    "parte_1 = vectores_caracteristicos[:primer_parte]\n",
    "parte_2 = vectores_caracteristicos[primer_parte:(primer_parte + segunda_parte)]\n",
    "parte_3 = vectores_caracteristicos[(primer_parte + segunda_parte):(primer_parte + segunda_parte + tercera_parte)]"
   ]
  },
  {
   "cell_type": "code",
   "execution_count": 20,
   "metadata": {},
   "outputs": [
    {
     "name": "stdout",
     "output_type": "stream",
     "text": [
      "Total de elementos:  832\n",
      "Primer porcentaje:  582\n",
      "Segundo porcentaje:  125\n",
      "Tercer porcentaje:  125\n"
     ]
    }
   ],
   "source": [
    "print(\"Total de elementos: \", total_elementos)\n",
    "print(\"Primer porcentaje: \", primer_parte)\n",
    "print(\"Segundo porcentaje: \", segunda_parte)\n",
    "print(\"Tercer porcentaje: \", tercera_parte)"
   ]
  }
 ],
 "metadata": {
  "kernelspec": {
   "display_name": "Python 3",
   "language": "python",
   "name": "python3"
  },
  "language_info": {
   "codemirror_mode": {
    "name": "ipython",
    "version": 3
   },
   "file_extension": ".py",
   "mimetype": "text/x-python",
   "name": "python",
   "nbconvert_exporter": "python",
   "pygments_lexer": "ipython3",
   "version": "3.11.5"
  },
  "orig_nbformat": 4
 },
 "nbformat": 4,
 "nbformat_minor": 2
}
