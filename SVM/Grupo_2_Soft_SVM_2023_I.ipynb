{
  "cells": [
    {
      "cell_type": "markdown",
      "metadata": {
        "id": "uM9XJw5ICgjr"
      },
      "source": [
        " # Práctica  4.\n",
        " ----\n",
        "  \n",
        "  Universidad : UTEC \\\\\n",
        "  Curso       : Inteligencia Artificial \\\\\n",
        "  Profesor    : Cristian López Del Alamo \\\\\n",
        "  Tema        : Soft SVM \\\\\n",
        "  \n",
        "\n",
        " ----\n",
        "\n",
        " Nombres y  Apellidos de Integrantes (Añada porcentaje de participación de cada miembro del equipo):\n",
        " - Integrante 1: Leonardo Isidro. (100%)\n",
        " - Integrante 2: Luis Torres.     (100%)\n",
        " - Integrante 3: Pedro Mori.      (100%)\n",
        " - Integrante 3: Christian Salazar (100%)\n",
        "\n",
        "\n",
        "*Una vez concluya la práctica debe subir el link de su colab a este  [Drive](https://docs.google.com/spreadsheets/d/1XCxGVmf8g29C7RZSPOqxvZHjjRZg45LHWR8mkZOfS1o/edit?usp=sharing)*\n"
      ]
    },
    {
      "cell_type": "markdown",
      "source": [
        "# Librerias"
      ],
      "metadata": {
        "id": "MihkRIjZqYUq"
      }
    },
    {
      "cell_type": "code",
      "execution_count": null,
      "metadata": {
        "id": "1USTX28PB-Jv"
      },
      "outputs": [],
      "source": [
        "import math\n",
        "import pandas as pd\n",
        "import numpy as np\n",
        "import torch\n",
        "import matplotlib.pyplot as plt\n",
        "import tensorflow as tf"
      ]
    },
    {
      "cell_type": "markdown",
      "source": [
        "\n",
        "# Base de datos\n",
        "1. Descarge en su disco esta Base de Datos:\n",
        "[Download](https://docs.google.com/spreadsheets/d/15-E3kiLJ6bCyXuJvSmxYAp2QYMkPX2QlQ597fAsPYy8/edit?usp=sharing).\n",
        "2. Para cargar la base de datos de su disco duro utilize el siguiente comando.\n",
        "from google.colab import files\n",
        "uploaded = files.upload()\n",
        "3. Cargamos 70% de los datos para entrenamiento y el resto para testing\n",
        "4. Solo estamos tomando 2 características, pero usted debe usar métodos de reducción de la dimensionalidad como PCA.\n"
      ],
      "metadata": {
        "id": "JAm4HP4Hm-8h"
      }
    },
    {
      "cell_type": "code",
      "execution_count": null,
      "metadata": {
        "id": "5BkLOvXCPy5H"
      },
      "outputs": [],
      "source": [
        "# Base de datos\n",
        "#from google.colab import files\n",
        "#uploaded = files.upload()\n",
        "\n",
        "# Cargando datos\n",
        "Nombre_Data_Set = 'iris - iris.csv'\n",
        "iris = pd.read_csv(Nombre_Data_Set)\n",
        "\n",
        "\n",
        "# Cambiamos todos los setosas a 1 y los demás a -1\n",
        "iris['label'] = np.where(iris['variety'] == 'Setosa', 1, -1)\n",
        "\n",
        "# 70% para entrenamiento y el resto para testing\n",
        "iris_train = iris.sample(frac=0.7)\n",
        "iris_test = iris[~iris.index.isin(iris_train.index)]\n",
        "\n",
        "# Solo tomamos 2 características para poder ser visualizado (Noda: En realidad debemos reducir la dimensionalidad por ejemplo con componentes principales)\n",
        "\n",
        "iris_train_x = iris_train[['sepal.length', 'sepal.width']].to_numpy()\n",
        "iris_train_y = iris_train['label'].to_numpy()\n",
        "\n",
        "iris_test_x = iris_test[['sepal.length', 'sepal.width']].to_numpy()\n",
        "iris_test_y = iris_test['label'].to_numpy()\n",
        "\n"
      ]
    },
    {
      "cell_type": "markdown",
      "metadata": {
        "id": "87xtyhJ-QW0M"
      },
      "source": [
        "# **Soft SVM**\n",
        "\n",
        "- Implementar todas las funciones para que este código sea funcional"
      ]
    },
    {
      "cell_type": "code",
      "execution_count": null,
      "metadata": {
        "id": "dFhgP37RiF-P"
      },
      "outputs": [],
      "source": [
        "def loss(y, x, w, bias, c):\n",
        "  # write your code here\n",
        "  \"\"\"\n",
        "  l=(np.norm(w)**2)/2\n",
        "  sum=0\n",
        "  for i in range(len(y)):\n",
        "    t=1-(y(i)*np.dot(x(i),w)+b)\n",
        "    if(t>0):\n",
        "      sum=sum+t\n",
        "    else:\n",
        "      sum=sum+0\n",
        "  return\"\"\"\n",
        "\n",
        "  hinge_loss = c * np.sum(np.maximum(0, 1 - y * (np.dot(x, w) + bias)))\n",
        "  regularization_term = np.dot(w, w)/2\n",
        "  return hinge_loss + regularization_term"
      ]
    },
    {
      "cell_type": "code",
      "execution_count": null,
      "metadata": {
        "id": "Vj0ppl5Li6yD"
      },
      "outputs": [],
      "source": [
        "def grad(y, x, w, bias, c):\n",
        "  grad=[]\n",
        "  # write your code here\n",
        "  if(y*(np.dot(x,w)+bias)>=1):\n",
        "    grad.append(w)\n",
        "    grad.append(0)\n",
        "  else:\n",
        "    grad.append(w - c*x*y)\n",
        "    grad.append(-c*y)\n",
        "  return grad"
      ]
    },
    {
      "cell_type": "code",
      "execution_count": null,
      "metadata": {
        "id": "mqO6Es1UV_vV"
      },
      "outputs": [],
      "source": [
        "def update(w, b, grad, alpha):\n",
        "    w -= alpha * grad[0]\n",
        "    b -= alpha * grad[1]\n",
        "    return w, b"
      ]
    },
    {
      "cell_type": "markdown",
      "metadata": {
        "id": "TNvLah2IQbMd"
      },
      "source": [
        "# Entrenamiento"
      ]
    },
    {
      "cell_type": "code",
      "execution_count": null,
      "metadata": {
        "id": "a__E7HxkPvXS"
      },
      "outputs": [],
      "source": [
        "def train(x,y,num_epochs,c=100, alpha=0.000001):\n",
        "  w = np.random.rand(iris_train_x.shape[1])\n",
        "  b = np.random.random()\n",
        "\n",
        "  loss_function = []\n",
        "  step = num_epochs//10\n",
        "  for epoch in range(num_epochs):\n",
        "    loss_value = loss(iris_train_y, iris_train_x, w, b, c)\n",
        "    loss_function.append(loss_value)\n",
        "    if epoch % step == 0:\n",
        "      print(f'Epoch {epoch}, loss {loss_value}')\n",
        "    for idx, x_i in enumerate(iris_train_x):\n",
        "      grad_values = grad(iris_train_y[idx], x_i, w, b, c)\n",
        "      w, b = update(w, b, grad_values, alpha)\n",
        "  return w,b\n",
        "\n",
        "  plt.plot(range(num_epochs), loss_function, label='Función de pérdida')\n",
        "  plt.legend(bbox_to_anchor=(1.04, 1), loc=\"upper left\")"
      ]
    },
    {
      "cell_type": "markdown",
      "source": [
        "# Funciones par graficar"
      ],
      "metadata": {
        "id": "GHI-i76jr9C8"
      }
    },
    {
      "cell_type": "code",
      "execution_count": null,
      "metadata": {
        "id": "N3iyxOxF3LmA"
      },
      "outputs": [],
      "source": [
        "def plane_intersect(a, b):\n",
        "    a_vec, b_vec = np.array(a[:3]), np.array(b[:3])\n",
        "    aXb_vec = np.cross(a_vec, b_vec)\n",
        "    A = np.array([a_vec, b_vec, aXb_vec])\n",
        "    d = np.array([-a[3], -b[3], 0.]).reshape(3,1)\n",
        "    p_inter = np.linalg.solve(A, d).T\n",
        "    return p_inter[0], (p_inter + aXb_vec)[0]"
      ]
    },
    {
      "cell_type": "code",
      "source": [
        "def h(x,w,b):\n",
        "  return np.dot(x,w)+b"
      ],
      "metadata": {
        "id": "WrnXvCMze9HG"
      },
      "execution_count": null,
      "outputs": []
    },
    {
      "cell_type": "code",
      "source": [
        "def test(x,w,b,y):\n",
        "  v = np.dot(x,w) + b\n",
        "  m = []\n",
        "  for i in v:\n",
        "    if(i>0):\n",
        "      m.append(1)\n",
        "    else:\n",
        "      m.append(-1)\n",
        "  print(\"Numero de aciertos: \", np.sum(m == y))\n",
        "  print(\"Numero de errores: \", np.sum(m != y))"
      ],
      "metadata": {
        "id": "VCICmvBAoIHP"
      },
      "execution_count": null,
      "outputs": []
    },
    {
      "cell_type": "code",
      "execution_count": null,
      "metadata": {
        "id": "kfLKpKvzt3mK",
        "colab": {
          "base_uri": "https://localhost:8080/",
          "height": 644
        },
        "outputId": "f3c4aab3-ac36-4db5-cd94-d4116f0b7291"
      },
      "outputs": [
        {
          "output_type": "stream",
          "name": "stdout",
          "text": [
            "Epoch 0, loss 16103.834084145046\n",
            "Epoch 700, loss 1918.3304532912343\n",
            "Epoch 1400, loss 1131.3652305133664\n",
            "Epoch 2100, loss 938.8437956328772\n",
            "Epoch 2800, loss 835.2499886532083\n",
            "Epoch 3500, loss 762.9468541298289\n",
            "Epoch 4200, loss 714.213213790835\n",
            "Epoch 4900, loss 690.0159558614972\n",
            "Epoch 5600, loss 668.4390176587784\n",
            "Epoch 6300, loss 653.138239092715\n",
            "Numero de aciertos:  30\n",
            "Numero de errores:  0\n"
          ]
        },
        {
          "output_type": "display_data",
          "data": {
            "text/plain": [
              "<Figure size 640x480 with 1 Axes>"
            ],
            "image/png": "[encoded data removed]"
          },
          "metadata": {}
        }
      ],
      "source": [
        "import matplotlib.cm as cm\n",
        "w,b = train(iris_train_x,iris_train_y,7000)\n",
        "iris_y_ = h(iris_test_x, w, b)\n",
        "iris_y_pred = np.sign(iris_y_)\n",
        "\n",
        "x_1, x_2 = plane_intersect(list(w)+[0,b], [0,0,1,0])\n",
        "m = (x_2[1]-x_1[1])/(x_2[0]-x_1[0])\n",
        "c = -m*x_1[0] + x_1[1]\n",
        "\n",
        "d = 1/np.linalg.norm(w)\n",
        "c_p = -m*(x_1[0] + d*math.sqrt(1/(1+m**2))) + x_1[1] + m*d*math.sqrt(1/(1+m**2))\n",
        "\n",
        "plt.plot(range(4,8), [m*x_i + c for x_i in range(4,8)])\n",
        "plt.plot(range(4,8), [m*x_i + c - c_p for x_i in range(4,8)], '--')\n",
        "plt.plot(range(4,8), [m*x_i + c + c_p for x_i in range(4,8)], '--')\n",
        "plt.scatter(iris_test_x[:,0], iris_test_x[:,1], color=cm.rainbow(iris_y_pred + 1))\n",
        "\n",
        "test(iris_test_x,w,b,iris_test_y)\n"
      ]
    }
  ],
  "metadata": {
    "colab": {
      "provenance": []
    },
    "kernelspec": {
      "display_name": "Python 3",
      "name": "python3"
    },
    "language_info": {
      "name": "python"
    }
  },
  "nbformat": 4,
  "nbformat_minor": 0
}