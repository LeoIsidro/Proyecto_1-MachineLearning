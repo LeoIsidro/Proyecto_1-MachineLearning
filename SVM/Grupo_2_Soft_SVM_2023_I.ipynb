{
  "cells": [
    {
      "cell_type": "markdown",
      "metadata": {
        "id": "uM9XJw5ICgjr"
      },
      "source": [
        " # Proyecto 1: SVM Multiclase\n",
        " ----\n",
        "  \n",
        "  Universidad : UTEC \\\n",
        "  Curso       : Inteligencia Artificial \\\n",
        "  Profesor    : Cristian López Del Alamo \\\n",
        "  Tema        : Soft SVM Multiclass\n",
        "  \n",
        "\n",
        " ----\n",
        "\n",
        " Nombres y  Apellidos de Integrantes (Añada porcentaje de participación de cada miembro del equipo):\n",
        " - Integrante 1: Leonardo Isidro. (100%)\n",
        " - Integrante 2: Luis Torres.     (100%)\n",
        " - Integrante 3: Pedro Mori.      (100%)\n",
        " - Integrante 3: Christian Salazar (100%)"
      ]
    },
    {
      "cell_type": "markdown",
      "metadata": {
        "id": "MihkRIjZqYUq"
      },
      "source": [
        "# Librerias"
      ]
    },
    {
      "cell_type": "code",
      "execution_count": 2,
      "metadata": {
        "id": "1USTX28PB-Jv"
      },
      "outputs": [],
      "source": [
        "import numpy as np\n",
        "import pandas as pd\n",
        "from  skimage.io import imread, imshow\n",
        "from pathlib import Path\n",
        "import pywt\n",
        "import pywt.data\n",
        "from PIL import Image\n",
        "import os\n",
        "import matplotlib.pyplot as plt"
      ]
    },
    {
      "cell_type": "code",
      "execution_count": 3,
      "metadata": {},
      "outputs": [],
      "source": [
        "def Get_Feature(picture, cortes):\n",
        "  LL = picture\n",
        "  for i in range(cortes):\n",
        "     LL, (LH, HL, HH) = pywt.dwt2(LL, 'haar')\n",
        "  return LL.flatten().tolist()"
      ]
    },
    {
      "cell_type": "markdown",
      "metadata": {},
      "source": [
        "##"
      ]
    },
    {
      "cell_type": "code",
      "execution_count": 13,
      "metadata": {
        "id": "5BkLOvXCPy5H"
      },
      "outputs": [],
      "source": [
        "\n",
        "path = \"C:/Users/david/UTEC/Cursos_UTEC/Machine_Learning/Proyectos_github/Proyecto_1-MachineLearning/imagenes_1/\"\n",
        "vectores_caracteristicos=[]\n",
        "labels = []\n",
        "entries = Path(path)\n",
        "counter = 0\n",
        "for entry in entries.iterdir():\n",
        "  imagen = path + entry.name\n",
        "  picture = imread(imagen)\n",
        "  vectores_caracteristicos.append(Get_Feacture(picture,2))\n",
        "  label = int(entry.name[0:3])\n",
        "  labels.append(label)\n",
        "\n"
      ]
    },
    {
      "cell_type": "code",
      "execution_count": 14,
      "metadata": {},
      "outputs": [
        {
          "name": "stdout",
          "output_type": "stream",
          "text": [
            "Cantidad de imagenes:  832\n",
            "Cantidad de etiquetas:  832\n",
            "[1, 1, 1, 1, 1, 1, 1, 1, 1, 1, 1, 1, 1, 1, 1, 1, 1, 1, 1, 1, 1, 1, 1, 1, 1, 1, 1, 1, 1, 1, 1, 1, 1, 1, 1, 1, 1, 1, 1, 1, 1, 1, 1, 1, 1, 1, 1, 1, 1, 1, 1, 1, 1, 1, 1, 1, 1, 1, 1, 1, 1, 1, 1, 1, 1, 1, 1, 1, 1, 1, 1, 1, 1, 1, 1, 1, 1, 1, 1, 1, 1, 1, 2, 2, 2, 2, 2, 2, 2, 2, 2, 2, 2, 2, 2, 2, 2, 2, 2, 2, 2, 2, 2, 2, 2, 2, 2, 2, 2, 2, 2, 2, 2, 2, 2, 2, 2, 2, 2, 2, 2, 2, 2, 2, 2, 2, 2, 2, 2, 2, 2, 2, 2, 2, 2, 2, 2, 2, 2, 2, 2, 2, 2, 2, 2, 2, 2, 2, 2, 2, 2, 2, 2, 2, 2, 2, 2, 2, 2, 2, 2, 2, 2, 2, 2, 2, 2, 2, 2, 2, 2, 2, 2, 2, 2, 3, 3, 3, 3, 3, 3, 3, 3, 3, 3, 3, 3, 3, 3, 3, 3, 3, 3, 3, 3, 3, 3, 3, 3, 3, 3, 3, 3, 3, 3, 3, 3, 3, 3, 3, 3, 3, 3, 3, 3, 3, 3, 3, 3, 3, 3, 3, 3, 3, 3, 3, 3, 3, 3, 3, 3, 3, 3, 3, 3, 3, 4, 4, 4, 4, 4, 4, 4, 4, 4, 4, 4, 4, 4, 4, 4, 4, 4, 4, 4, 4, 4, 4, 4, 4, 4, 4, 4, 4, 4, 4, 4, 4, 4, 4, 4, 4, 4, 4, 4, 4, 4, 4, 4, 4, 4, 4, 4, 4, 4, 4, 4, 4, 4, 4, 4, 4, 4, 4, 4, 4, 4, 4, 4, 4, 4, 4, 4, 4, 4, 4, 4, 4, 4, 4, 4, 4, 4, 4, 4, 4, 4, 4, 4, 4, 4, 4, 4, 4, 4, 4, 5, 5, 5, 5, 5, 5, 5, 5, 5, 5, 5, 5, 5, 5, 5, 5, 5, 5, 5, 5, 5, 5, 5, 5, 5, 5, 5, 5, 5, 5, 5, 5, 5, 5, 5, 5, 5, 5, 5, 5, 5, 5, 5, 5, 5, 5, 5, 5, 5, 5, 5, 5, 5, 5, 5, 5, 5, 5, 5, 5, 5, 5, 5, 5, 5, 5, 5, 5, 5, 5, 5, 5, 5, 5, 5, 5, 5, 5, 5, 5, 5, 5, 5, 5, 5, 5, 5, 5, 6, 6, 6, 6, 6, 6, 6, 6, 6, 6, 6, 6, 6, 6, 6, 6, 6, 6, 6, 6, 6, 6, 6, 6, 6, 6, 6, 6, 6, 6, 6, 6, 6, 6, 6, 6, 6, 6, 6, 6, 6, 6, 6, 6, 6, 6, 6, 6, 6, 6, 6, 6, 6, 6, 6, 6, 6, 6, 6, 6, 6, 6, 6, 6, 6, 6, 6, 6, 6, 6, 6, 6, 6, 6, 6, 6, 6, 6, 6, 6, 6, 6, 6, 6, 6, 6, 6, 6, 6, 6, 6, 6, 6, 6, 6, 6, 6, 6, 6, 6, 7, 7, 7, 7, 7, 7, 7, 7, 7, 7, 7, 7, 7, 7, 7, 7, 7, 7, 7, 7, 7, 7, 7, 7, 7, 7, 7, 7, 7, 7, 7, 7, 7, 7, 7, 7, 7, 7, 7, 7, 7, 7, 7, 7, 7, 7, 7, 7, 7, 7, 7, 7, 7, 7, 7, 7, 7, 7, 7, 7, 7, 7, 7, 7, 7, 7, 7, 7, 7, 7, 7, 7, 7, 7, 7, 7, 7, 7, 7, 7, 7, 7, 7, 7, 7, 7, 7, 7, 7, 8, 8, 8, 8, 8, 8, 8, 8, 8, 8, 8, 8, 8, 8, 8, 8, 8, 8, 8, 8, 8, 8, 8, 8, 8, 8, 8, 8, 8, 8, 8, 8, 8, 8, 8, 8, 8, 8, 8, 8, 8, 8, 8, 8, 8, 8, 8, 8, 8, 8, 8, 8, 8, 8, 8, 9, 9, 9, 9, 9, 9, 9, 9, 9, 9, 9, 9, 9, 9, 9, 9, 9, 9, 9, 9, 9, 9, 9, 9, 9, 9, 9, 9, 9, 9, 9, 9, 9, 9, 9, 9, 9, 9, 9, 9, 9, 9, 9, 9, 9, 9, 9, 9, 9, 9, 9, 9, 9, 9, 9, 9, 9, 9, 9, 9, 9, 9, 9, 9, 9, 9, 9, 9, 9, 9, 9, 9, 9, 9, 9, 9, 9, 9, 9, 9, 9, 9, 9, 9, 9, 9, 9, 9, 9, 9, 10, 10, 10, 10, 10, 10, 10, 10, 10, 10, 10, 10, 10, 10, 10, 10, 10, 10, 10, 10, 10, 10, 10, 10, 10, 10, 10, 10, 10, 10, 10, 10, 10, 10, 10, 10, 10, 10, 10, 10, 10, 10, 10, 10, 10, 10, 10, 10, 10, 10, 10, 10, 10, 10, 10, 10, 10, 10, 10, 10, 10, 10, 10, 10, 10, 10, 10, 10, 10, 10, 10, 10, 10, 10, 10, 10, 10, 10, 10, 10, 10, 10, 10, 10]\n"
          ]
        }
      ],
      "source": [
        "data_X = np.array(vectores_caracteristicos)\n",
        "data_y = np.array(labels)\n",
        "print(\"Cantidad de imagenes: \", len(data_X))\n",
        "print(\"Cantidad de etiquetas: \", len(data_y))\n",
        "print(labels)"
      ]
    },
    {
      "cell_type": "markdown",
      "metadata": {},
      "source": [
        "## Partición del Dataset en Entrenamiento, Validación y Testing"
      ]
    },
    {
      "cell_type": "code",
      "execution_count": 15,
      "metadata": {},
      "outputs": [],
      "source": [
        "from sklearn.model_selection import train_test_split\n",
        "\n",
        "# Division del dataset en 70% entrenamiento, 15% validación y 15% prueba\n",
        "X_train, X_temp, y_train, y_temp = train_test_split(data_X, data_y, test_size=0.3, random_state=42)\n",
        "# Dvidimos el X_temp en 50% validación y 50% prueba para que queden 70% entrenamiento, 15% validación y 15% prueba\n",
        "X_val, X_test, y_val, y_test = train_test_split(X_temp, y_temp, test_size=0.5, random_state=42)"
      ]
    },
    {
      "cell_type": "markdown",
      "metadata": {
        "id": "87xtyhJ-QW0M"
      },
      "source": [
        "# **Soft SVM**\n",
        "\n",
        "- Implementar todas las funciones para que este código sea funcional"
      ]
    },
    {
      "cell_type": "code",
      "execution_count": null,
      "metadata": {
        "id": "dFhgP37RiF-P"
      },
      "outputs": [],
      "source": [
        "def loss(y, x, w, bias, c):\n",
        "  # write your code here\n",
        "  hinge_loss = c * np.sum(np.maximum(0, 1 - y * (np.dot(x, w) + bias)))\n",
        "  regularization_term = np.dot(w, w)/2\n",
        "  return hinge_loss + regularization_term"
      ]
    },
    {
      "cell_type": "code",
      "execution_count": 43,
      "metadata": {},
      "outputs": [],
      "source": [
        "def loss(y, x, w, bias, c):\n",
        "    num_samples = len(y)\n",
        "    hinge_loss = 0\n",
        "    regularization_term = np.dot(w, w.T) / 2  # Regularización L2\n",
        "    num_classes = w.shape[0]\n",
        "    for i in range(num_samples):\n",
        "        scores = np.dot(x[i], w) + bias\n",
        "        correct_class_score = scores[y[i]-1]\n",
        "\n",
        "        for j in range(num_classes):\n",
        "            if j == y[i]:\n",
        "                continue\n",
        "            margin = scores[j-1] - correct_class_score + 1  # +1 para la pérdida de margen\n",
        "            if margin > 0:\n",
        "                hinge_loss += margin\n",
        "\n",
        "    hinge_loss /= num_samples\n",
        "    loss_value = c * hinge_loss + regularization_term\n",
        "    return loss_value\n"
      ]
    },
    {
      "cell_type": "code",
      "execution_count": null,
      "metadata": {
        "id": "Vj0ppl5Li6yD"
      },
      "outputs": [],
      "source": [
        "def grad(y, x, w, bias, c):\n",
        "  grad=[]\n",
        "  # write your code here\n",
        "  if(y*(np.dot(x,w)+bias)>=1):\n",
        "    grad.append(w)\n",
        "    grad.append(0)\n",
        "  else:\n",
        "    grad.append(w - c*x*y)\n",
        "    grad.append(-c*y)\n",
        "  return grad"
      ]
    },
    {
      "cell_type": "code",
      "execution_count": 20,
      "metadata": {},
      "outputs": [],
      "source": [
        "def grad(y, x, w, bias, c):\n",
        "    num_samples = len(y)\n",
        "    grad_w = np.zeros_like(w)\n",
        "    grad_b = 0\n",
        "\n",
        "    for i in range(num_samples):\n",
        "        scores = np.dot(x[i], w) + bias\n",
        "        correct_class_score = scores[y[i]]\n",
        "\n",
        "        for j in range(len(scores)):\n",
        "            if j == y[i]:\n",
        "                continue\n",
        "            margin = scores[j] - correct_class_score + 1  # +1 para la pérdida de margen\n",
        "            if margin > 0:\n",
        "                grad_w += c * x[i]\n",
        "                grad_b += c\n",
        "\n",
        "    grad_w /= num_samples\n",
        "    grad_b /= num_samples\n",
        "    return grad_w, grad_b"
      ]
    },
    {
      "cell_type": "code",
      "execution_count": null,
      "metadata": {
        "id": "mqO6Es1UV_vV"
      },
      "outputs": [],
      "source": [
        "def update(w, b, grad, alpha):\n",
        "    w -= alpha * grad[0]\n",
        "    b -= alpha * grad[1]\n",
        "    return w, b"
      ]
    },
    {
      "cell_type": "code",
      "execution_count": 21,
      "metadata": {},
      "outputs": [],
      "source": [
        "def update(w, b, grad_w, grad_b, alpha):\n",
        "    w -= alpha * grad_w\n",
        "    b -= alpha * grad_b\n",
        "    return w, b"
      ]
    },
    {
      "cell_type": "markdown",
      "metadata": {
        "id": "TNvLah2IQbMd"
      },
      "source": [
        "# Entrenamiento"
      ]
    },
    {
      "cell_type": "code",
      "execution_count": 41,
      "metadata": {
        "id": "a__E7HxkPvXS"
      },
      "outputs": [],
      "source": [
        "def train(X, y, num_epochs, num_classes, c=1.0, alpha=0.001):\n",
        "    num_samples, num_features = X.shape\n",
        "    w = np.random.rand(num_features, num_classes)\n",
        "    b = np.random.random(num_classes)\n",
        "\n",
        "    loss_function = []\n",
        "    step = num_epochs // 10\n",
        "\n",
        "    for epoch in range(num_epochs):\n",
        "        loss_value = loss(y, X, w, b, c)\n",
        "        loss_function.append(loss_value)\n",
        "\n",
        "        if epoch % step == 0:\n",
        "            print(f'Epoch {epoch}, loss {loss_value}')\n",
        "\n",
        "        grad_w, grad_b = grad(y, X, w, b, c)\n",
        "        w, b = update(w, b, grad_w, grad_b, alpha)\n",
        "\n",
        "    plt.plot(range(num_epochs), loss_function, label='Función de pérdida')\n",
        "    plt.legend(bbox_to_anchor=(1.04, 1), loc=\"upper left\")\n",
        "    plt.show()\n",
        "\n",
        "    return w, b"
      ]
    },
    {
      "cell_type": "markdown",
      "metadata": {
        "id": "GHI-i76jr9C8"
      },
      "source": [
        "# Funciones par graficar"
      ]
    },
    {
      "cell_type": "code",
      "execution_count": null,
      "metadata": {
        "id": "N3iyxOxF3LmA"
      },
      "outputs": [],
      "source": [
        "def plane_intersect(a, b):\n",
        "    a_vec, b_vec = np.array(a[:3]), np.array(b[:3])\n",
        "    aXb_vec = np.cross(a_vec, b_vec)\n",
        "    A = np.array([a_vec, b_vec, aXb_vec])\n",
        "    d = np.array([-a[3], -b[3], 0.]).reshape(3,1)\n",
        "    p_inter = np.linalg.solve(A, d).T\n",
        "    return p_inter[0], (p_inter + aXb_vec)[0]"
      ]
    },
    {
      "cell_type": "code",
      "execution_count": null,
      "metadata": {
        "id": "WrnXvCMze9HG"
      },
      "outputs": [],
      "source": [
        "def h(x,w,b):\n",
        "  return np.dot(x,w)+b"
      ]
    },
    {
      "cell_type": "code",
      "execution_count": null,
      "metadata": {
        "id": "VCICmvBAoIHP"
      },
      "outputs": [],
      "source": [
        "def test(x,w,b,y):\n",
        "  v = np.dot(x,w) + b\n",
        "  m = []\n",
        "  for i in v:\n",
        "    if(i>0):\n",
        "      m.append(1)\n",
        "    else:\n",
        "      m.append(-1)\n",
        "  print(\"Numero de aciertos: \", np.sum(m == y))\n",
        "  print(\"Numero de errores: \", np.sum(m != y))"
      ]
    },
    {
      "cell_type": "code",
      "execution_count": null,
      "metadata": {
        "colab": {
          "base_uri": "https://localhost:8080/",
          "height": 644
        },
        "id": "kfLKpKvzt3mK",
        "outputId": "f3c4aab3-ac36-4db5-cd94-d4116f0b7291"
      },
      "outputs": [],
      "source": [
        "import matplotlib.cm as cm\n",
        "w,b = train(iris_train_x,iris_train_y,7000)\n",
        "iris_y_ = h(iris_test_x, w, b)\n",
        "iris_y_pred = np.sign(iris_y_)\n",
        "\n",
        "x_1, x_2 = plane_intersect(list(w)+[0,b], [0,0,1,0])\n",
        "m = (x_2[1]-x_1[1])/(x_2[0]-x_1[0])\n",
        "c = -m*x_1[0] + x_1[1]\n",
        "\n",
        "d = 1/np.linalg.norm(w)\n",
        "c_p = -m*(x_1[0] + d*math.sqrt(1/(1+m**2))) + x_1[1] + m*d*math.sqrt(1/(1+m**2))\n",
        "\n",
        "plt.plot(range(4,8), [m*x_i + c for x_i in range(4,8)])\n",
        "plt.plot(range(4,8), [m*x_i + c - c_p for x_i in range(4,8)], '--')\n",
        "plt.plot(range(4,8), [m*x_i + c + c_p for x_i in range(4,8)], '--')\n",
        "plt.scatter(iris_test_x[:,0], iris_test_x[:,1], color=cm.rainbow(iris_y_pred + 1))\n",
        "\n",
        "test(iris_test_x,w,b,iris_test_y)\n"
      ]
    },
    {
      "cell_type": "code",
      "execution_count": 45,
      "metadata": {},
      "outputs": [
        {
          "name": "stdout",
          "output_type": "stream",
          "text": [
            "Época 1/100, Precisión Entrenamiento: 1.0, Precisión Validación: 0.408\n",
            "Época 2/100, Precisión Entrenamiento: 1.0, Precisión Validación: 0.408\n",
            "Época 3/100, Precisión Entrenamiento: 1.0, Precisión Validación: 0.408\n",
            "Época 4/100, Precisión Entrenamiento: 1.0, Precisión Validación: 0.408\n",
            "Época 5/100, Precisión Entrenamiento: 1.0, Precisión Validación: 0.408\n",
            "Época 6/100, Precisión Entrenamiento: 1.0, Precisión Validación: 0.408\n",
            "Época 7/100, Precisión Entrenamiento: 1.0, Precisión Validación: 0.408\n",
            "Época 8/100, Precisión Entrenamiento: 1.0, Precisión Validación: 0.408\n",
            "Época 9/100, Precisión Entrenamiento: 1.0, Precisión Validación: 0.408\n",
            "Época 10/100, Precisión Entrenamiento: 1.0, Precisión Validación: 0.408\n",
            "Época 11/100, Precisión Entrenamiento: 1.0, Precisión Validación: 0.408\n",
            "Época 12/100, Precisión Entrenamiento: 1.0, Precisión Validación: 0.408\n",
            "Época 13/100, Precisión Entrenamiento: 1.0, Precisión Validación: 0.408\n",
            "Época 14/100, Precisión Entrenamiento: 1.0, Precisión Validación: 0.408\n",
            "Época 15/100, Precisión Entrenamiento: 1.0, Precisión Validación: 0.408\n",
            "Época 16/100, Precisión Entrenamiento: 1.0, Precisión Validación: 0.408\n",
            "Época 17/100, Precisión Entrenamiento: 1.0, Precisión Validación: 0.408\n",
            "Época 18/100, Precisión Entrenamiento: 1.0, Precisión Validación: 0.408\n",
            "Época 19/100, Precisión Entrenamiento: 1.0, Precisión Validación: 0.408\n",
            "Época 20/100, Precisión Entrenamiento: 1.0, Precisión Validación: 0.408\n",
            "Época 21/100, Precisión Entrenamiento: 1.0, Precisión Validación: 0.408\n",
            "Época 22/100, Precisión Entrenamiento: 1.0, Precisión Validación: 0.408\n",
            "Época 23/100, Precisión Entrenamiento: 1.0, Precisión Validación: 0.408\n",
            "Época 24/100, Precisión Entrenamiento: 1.0, Precisión Validación: 0.408\n",
            "Época 25/100, Precisión Entrenamiento: 1.0, Precisión Validación: 0.408\n",
            "Época 26/100, Precisión Entrenamiento: 1.0, Precisión Validación: 0.408\n",
            "Época 27/100, Precisión Entrenamiento: 1.0, Precisión Validación: 0.408\n",
            "Época 28/100, Precisión Entrenamiento: 1.0, Precisión Validación: 0.408\n",
            "Época 29/100, Precisión Entrenamiento: 1.0, Precisión Validación: 0.408\n",
            "Época 30/100, Precisión Entrenamiento: 1.0, Precisión Validación: 0.408\n",
            "Época 31/100, Precisión Entrenamiento: 1.0, Precisión Validación: 0.408\n",
            "Época 32/100, Precisión Entrenamiento: 1.0, Precisión Validación: 0.408\n",
            "Época 33/100, Precisión Entrenamiento: 1.0, Precisión Validación: 0.408\n",
            "Época 34/100, Precisión Entrenamiento: 1.0, Precisión Validación: 0.408\n",
            "Época 35/100, Precisión Entrenamiento: 1.0, Precisión Validación: 0.408\n",
            "Época 36/100, Precisión Entrenamiento: 1.0, Precisión Validación: 0.408\n",
            "Época 37/100, Precisión Entrenamiento: 1.0, Precisión Validación: 0.408\n",
            "Época 38/100, Precisión Entrenamiento: 1.0, Precisión Validación: 0.408\n",
            "Época 39/100, Precisión Entrenamiento: 1.0, Precisión Validación: 0.408\n",
            "Época 40/100, Precisión Entrenamiento: 1.0, Precisión Validación: 0.408\n",
            "Época 41/100, Precisión Entrenamiento: 1.0, Precisión Validación: 0.408\n",
            "Época 42/100, Precisión Entrenamiento: 1.0, Precisión Validación: 0.408\n",
            "Época 43/100, Precisión Entrenamiento: 1.0, Precisión Validación: 0.408\n",
            "Época 44/100, Precisión Entrenamiento: 1.0, Precisión Validación: 0.408\n",
            "Época 45/100, Precisión Entrenamiento: 1.0, Precisión Validación: 0.408\n",
            "Época 46/100, Precisión Entrenamiento: 1.0, Precisión Validación: 0.408\n",
            "Época 47/100, Precisión Entrenamiento: 1.0, Precisión Validación: 0.408\n",
            "Época 48/100, Precisión Entrenamiento: 1.0, Precisión Validación: 0.408\n",
            "Época 49/100, Precisión Entrenamiento: 1.0, Precisión Validación: 0.408\n",
            "Época 50/100, Precisión Entrenamiento: 1.0, Precisión Validación: 0.408\n",
            "Época 51/100, Precisión Entrenamiento: 1.0, Precisión Validación: 0.408\n",
            "Época 52/100, Precisión Entrenamiento: 1.0, Precisión Validación: 0.408\n",
            "Época 53/100, Precisión Entrenamiento: 1.0, Precisión Validación: 0.408\n",
            "Época 54/100, Precisión Entrenamiento: 1.0, Precisión Validación: 0.408\n",
            "Época 55/100, Precisión Entrenamiento: 1.0, Precisión Validación: 0.408\n",
            "Época 56/100, Precisión Entrenamiento: 1.0, Precisión Validación: 0.408\n",
            "Época 57/100, Precisión Entrenamiento: 1.0, Precisión Validación: 0.408\n",
            "Época 58/100, Precisión Entrenamiento: 1.0, Precisión Validación: 0.408\n",
            "Época 59/100, Precisión Entrenamiento: 1.0, Precisión Validación: 0.408\n",
            "Época 60/100, Precisión Entrenamiento: 1.0, Precisión Validación: 0.408\n",
            "Época 61/100, Precisión Entrenamiento: 1.0, Precisión Validación: 0.408\n",
            "Época 62/100, Precisión Entrenamiento: 1.0, Precisión Validación: 0.408\n",
            "Época 63/100, Precisión Entrenamiento: 1.0, Precisión Validación: 0.408\n",
            "Época 64/100, Precisión Entrenamiento: 1.0, Precisión Validación: 0.408\n",
            "Época 65/100, Precisión Entrenamiento: 1.0, Precisión Validación: 0.408\n",
            "Época 66/100, Precisión Entrenamiento: 1.0, Precisión Validación: 0.408\n",
            "Época 67/100, Precisión Entrenamiento: 1.0, Precisión Validación: 0.408\n",
            "Época 68/100, Precisión Entrenamiento: 1.0, Precisión Validación: 0.408\n",
            "Época 69/100, Precisión Entrenamiento: 1.0, Precisión Validación: 0.408\n",
            "Época 70/100, Precisión Entrenamiento: 1.0, Precisión Validación: 0.408\n",
            "Época 71/100, Precisión Entrenamiento: 1.0, Precisión Validación: 0.408\n",
            "Época 72/100, Precisión Entrenamiento: 1.0, Precisión Validación: 0.408\n",
            "Época 73/100, Precisión Entrenamiento: 1.0, Precisión Validación: 0.408\n",
            "Época 74/100, Precisión Entrenamiento: 1.0, Precisión Validación: 0.408\n",
            "Época 75/100, Precisión Entrenamiento: 1.0, Precisión Validación: 0.408\n",
            "Época 76/100, Precisión Entrenamiento: 1.0, Precisión Validación: 0.408\n",
            "Época 77/100, Precisión Entrenamiento: 1.0, Precisión Validación: 0.408\n",
            "Época 78/100, Precisión Entrenamiento: 1.0, Precisión Validación: 0.408\n",
            "Época 79/100, Precisión Entrenamiento: 1.0, Precisión Validación: 0.408\n",
            "Época 80/100, Precisión Entrenamiento: 1.0, Precisión Validación: 0.408\n",
            "Época 81/100, Precisión Entrenamiento: 1.0, Precisión Validación: 0.408\n",
            "Época 82/100, Precisión Entrenamiento: 1.0, Precisión Validación: 0.408\n",
            "Época 83/100, Precisión Entrenamiento: 1.0, Precisión Validación: 0.408\n",
            "Época 84/100, Precisión Entrenamiento: 1.0, Precisión Validación: 0.408\n",
            "Época 85/100, Precisión Entrenamiento: 1.0, Precisión Validación: 0.408\n",
            "Época 86/100, Precisión Entrenamiento: 1.0, Precisión Validación: 0.408\n",
            "Época 87/100, Precisión Entrenamiento: 1.0, Precisión Validación: 0.408\n",
            "Época 88/100, Precisión Entrenamiento: 1.0, Precisión Validación: 0.408\n",
            "Época 89/100, Precisión Entrenamiento: 1.0, Precisión Validación: 0.408\n",
            "Época 90/100, Precisión Entrenamiento: 1.0, Precisión Validación: 0.408\n",
            "Época 91/100, Precisión Entrenamiento: 1.0, Precisión Validación: 0.408\n",
            "Época 92/100, Precisión Entrenamiento: 1.0, Precisión Validación: 0.408\n",
            "Época 93/100, Precisión Entrenamiento: 1.0, Precisión Validación: 0.408\n",
            "Época 94/100, Precisión Entrenamiento: 1.0, Precisión Validación: 0.408\n",
            "Época 95/100, Precisión Entrenamiento: 1.0, Precisión Validación: 0.408\n",
            "Época 96/100, Precisión Entrenamiento: 1.0, Precisión Validación: 0.408\n",
            "Época 97/100, Precisión Entrenamiento: 1.0, Precisión Validación: 0.408\n",
            "Época 98/100, Precisión Entrenamiento: 1.0, Precisión Validación: 0.408\n",
            "Época 99/100, Precisión Entrenamiento: 1.0, Precisión Validación: 0.408\n",
            "Época 100/100, Precisión Entrenamiento: 1.0, Precisión Validación: 0.408\n"
          ]
        },
        {
          "data": {
            "image/png": "[encoded data removed]",
            "text/plain": [
              "<Figure size 640x480 with 1 Axes>"
            ]
          },
          "metadata": {},
          "output_type": "display_data"
        }
      ],
      "source": [
        "from sklearn import svm\n",
        "from sklearn.metrics import accuracy_score\n",
        "import matplotlib.pyplot as plt\n",
        "\n",
        "# Crear un clasificador SVM multiclase\n",
        "clf = svm.SVC(kernel='linear', C=1.0, decision_function_shape='ovr')  # 'ovr' para clasificación uno contra todos\n",
        "\n",
        "# Inicializar listas para almacenar la pérdida en entrenamiento y validación\n",
        "loss_train = []\n",
        "loss_val = []\n",
        "\n",
        "# Definir el número de épocas (iteraciones)\n",
        "num_epochs = 100\n",
        "\n",
        "for epoch in range(num_epochs):\n",
        "    # Entrenar el modelo utilizando el conjunto de entrenamiento\n",
        "    clf.fit(X_train, y_train)\n",
        "\n",
        "    # Realizar predicciones en el conjunto de prueba\n",
        "    y_pred_train = clf.predict(X_train)\n",
        "    y_pred_val = clf.predict(X_val)\n",
        "\n",
        "    # Calcular la precisión del modelo en entrenamiento y validación\n",
        "    accuracy_train = accuracy_score(y_train, y_pred_train)\n",
        "    accuracy_val = accuracy_score(y_val, y_pred_val)\n",
        "\n",
        "    # Calcular y almacenar la pérdida en entrenamiento y validación (puedes usar cualquier función de pérdida que desees)\n",
        "    loss_train.append(1 - accuracy_train)\n",
        "    loss_val.append(1 - accuracy_val)\n",
        "\n",
        "    print(f'Época {epoch + 1}/{num_epochs}, Precisión Entrenamiento: {accuracy_train}, Precisión Validación: {accuracy_val}')\n",
        "\n",
        "# Graficar las curvas de pérdida\n",
        "plt.plot(range(num_epochs), loss_train, label='Pérdida Entrenamiento')\n",
        "plt.plot(range(num_epochs), loss_val, label='Pérdida Validación')\n",
        "plt.xlabel('Época')\n",
        "plt.ylabel('Pérdida')\n",
        "plt.legend()\n",
        "plt.show()\n"
      ]
    },
    {
      "cell_type": "code",
      "execution_count": 42,
      "metadata": {},
      "outputs": [
        {
          "ename": "IndexError",
          "evalue": "index 10 is out of bounds for axis 0 with size 10",
          "output_type": "error",
          "traceback": [
            "\u001b[1;31m---------------------------------------------------------------------------\u001b[0m",
            "\u001b[1;31mIndexError\u001b[0m                                Traceback (most recent call last)",
            "\u001b[1;32mc:\\Users\\david\\UTEC\\Cursos_UTEC\\Machine_Learning\\Proyectos_github\\Proyecto_1-MachineLearning\\SVM\\Grupo_2_Soft_SVM_2023_I.ipynb Cell 29\u001b[0m line \u001b[0;36m9\n\u001b[0;32m      <a href='vscode-notebook-cell:/c%3A/Users/david/UTEC/Cursos_UTEC/Machine_Learning/Proyectos_github/Proyecto_1-MachineLearning/SVM/Grupo_2_Soft_SVM_2023_I.ipynb#X40sZmlsZQ%3D%3D?line=1'>2</a>\u001b[0m num_classes \u001b[39m=\u001b[39m \u001b[39mlen\u001b[39m(np\u001b[39m.\u001b[39munique(y_train))  \u001b[39m# Número de clases en el conjunto de datos\u001b[39;00m\n\u001b[0;32m      <a href='vscode-notebook-cell:/c%3A/Users/david/UTEC/Cursos_UTEC/Machine_Learning/Proyectos_github/Proyecto_1-MachineLearning/SVM/Grupo_2_Soft_SVM_2023_I.ipynb#X40sZmlsZQ%3D%3D?line=2'>3</a>\u001b[0m \u001b[39m# X_train = np.array(X_train)\u001b[39;00m\n\u001b[0;32m      <a href='vscode-notebook-cell:/c%3A/Users/david/UTEC/Cursos_UTEC/Machine_Learning/Proyectos_github/Proyecto_1-MachineLearning/SVM/Grupo_2_Soft_SVM_2023_I.ipynb#X40sZmlsZQ%3D%3D?line=3'>4</a>\u001b[0m \u001b[39m# y_train = np.array(y_train)\u001b[39;00m\n\u001b[0;32m      <a href='vscode-notebook-cell:/c%3A/Users/david/UTEC/Cursos_UTEC/Machine_Learning/Proyectos_github/Proyecto_1-MachineLearning/SVM/Grupo_2_Soft_SVM_2023_I.ipynb#X40sZmlsZQ%3D%3D?line=4'>5</a>\u001b[0m \u001b[39m# X_test = np.array(X_test)\u001b[39;00m\n\u001b[0;32m      <a href='vscode-notebook-cell:/c%3A/Users/david/UTEC/Cursos_UTEC/Machine_Learning/Proyectos_github/Proyecto_1-MachineLearning/SVM/Grupo_2_Soft_SVM_2023_I.ipynb#X40sZmlsZQ%3D%3D?line=5'>6</a>\u001b[0m \u001b[39m# y_test = np.array(y_test)\u001b[39;00m\n\u001b[0;32m      <a href='vscode-notebook-cell:/c%3A/Users/david/UTEC/Cursos_UTEC/Machine_Learning/Proyectos_github/Proyecto_1-MachineLearning/SVM/Grupo_2_Soft_SVM_2023_I.ipynb#X40sZmlsZQ%3D%3D?line=6'>7</a>\u001b[0m \u001b[39m# print(num_classes)\u001b[39;00m\n\u001b[0;32m      <a href='vscode-notebook-cell:/c%3A/Users/david/UTEC/Cursos_UTEC/Machine_Learning/Proyectos_github/Proyecto_1-MachineLearning/SVM/Grupo_2_Soft_SVM_2023_I.ipynb#X40sZmlsZQ%3D%3D?line=7'>8</a>\u001b[0m \u001b[39m# # Entrenar el modelo\u001b[39;00m\n\u001b[1;32m----> <a href='vscode-notebook-cell:/c%3A/Users/david/UTEC/Cursos_UTEC/Machine_Learning/Proyectos_github/Proyecto_1-MachineLearning/SVM/Grupo_2_Soft_SVM_2023_I.ipynb#X40sZmlsZQ%3D%3D?line=8'>9</a>\u001b[0m trained_w, trained_b \u001b[39m=\u001b[39m train(X_train, y_train, num_epochs, num_classes)\n\u001b[0;32m     <a href='vscode-notebook-cell:/c%3A/Users/david/UTEC/Cursos_UTEC/Machine_Learning/Proyectos_github/Proyecto_1-MachineLearning/SVM/Grupo_2_Soft_SVM_2023_I.ipynb#X40sZmlsZQ%3D%3D?line=10'>11</a>\u001b[0m \u001b[39m# # Realizar predicciones en el conjunto de prueba\u001b[39;00m\n\u001b[0;32m     <a href='vscode-notebook-cell:/c%3A/Users/david/UTEC/Cursos_UTEC/Machine_Learning/Proyectos_github/Proyecto_1-MachineLearning/SVM/Grupo_2_Soft_SVM_2023_I.ipynb#X40sZmlsZQ%3D%3D?line=11'>12</a>\u001b[0m scores \u001b[39m=\u001b[39m np\u001b[39m.\u001b[39mdot(X_test, trained_w) \u001b[39m+\u001b[39m trained_b\n",
            "\u001b[1;32mc:\\Users\\david\\UTEC\\Cursos_UTEC\\Machine_Learning\\Proyectos_github\\Proyecto_1-MachineLearning\\SVM\\Grupo_2_Soft_SVM_2023_I.ipynb Cell 29\u001b[0m line \u001b[0;36m1\n\u001b[0;32m      <a href='vscode-notebook-cell:/c%3A/Users/david/UTEC/Cursos_UTEC/Machine_Learning/Proyectos_github/Proyecto_1-MachineLearning/SVM/Grupo_2_Soft_SVM_2023_I.ipynb#X40sZmlsZQ%3D%3D?line=6'>7</a>\u001b[0m step \u001b[39m=\u001b[39m num_epochs \u001b[39m/\u001b[39m\u001b[39m/\u001b[39m \u001b[39m10\u001b[39m\n\u001b[0;32m      <a href='vscode-notebook-cell:/c%3A/Users/david/UTEC/Cursos_UTEC/Machine_Learning/Proyectos_github/Proyecto_1-MachineLearning/SVM/Grupo_2_Soft_SVM_2023_I.ipynb#X40sZmlsZQ%3D%3D?line=8'>9</a>\u001b[0m \u001b[39mfor\u001b[39;00m epoch \u001b[39min\u001b[39;00m \u001b[39mrange\u001b[39m(num_epochs):\n\u001b[1;32m---> <a href='vscode-notebook-cell:/c%3A/Users/david/UTEC/Cursos_UTEC/Machine_Learning/Proyectos_github/Proyecto_1-MachineLearning/SVM/Grupo_2_Soft_SVM_2023_I.ipynb#X40sZmlsZQ%3D%3D?line=9'>10</a>\u001b[0m     loss_value \u001b[39m=\u001b[39m loss(y, X, w, b, c)\n\u001b[0;32m     <a href='vscode-notebook-cell:/c%3A/Users/david/UTEC/Cursos_UTEC/Machine_Learning/Proyectos_github/Proyecto_1-MachineLearning/SVM/Grupo_2_Soft_SVM_2023_I.ipynb#X40sZmlsZQ%3D%3D?line=10'>11</a>\u001b[0m     loss_function\u001b[39m.\u001b[39mappend(loss_value)\n\u001b[0;32m     <a href='vscode-notebook-cell:/c%3A/Users/david/UTEC/Cursos_UTEC/Machine_Learning/Proyectos_github/Proyecto_1-MachineLearning/SVM/Grupo_2_Soft_SVM_2023_I.ipynb#X40sZmlsZQ%3D%3D?line=12'>13</a>\u001b[0m     \u001b[39mif\u001b[39;00m epoch \u001b[39m%\u001b[39m step \u001b[39m==\u001b[39m \u001b[39m0\u001b[39m:\n",
            "\u001b[1;32mc:\\Users\\david\\UTEC\\Cursos_UTEC\\Machine_Learning\\Proyectos_github\\Proyecto_1-MachineLearning\\SVM\\Grupo_2_Soft_SVM_2023_I.ipynb Cell 29\u001b[0m line \u001b[0;36m1\n\u001b[0;32m     <a href='vscode-notebook-cell:/c%3A/Users/david/UTEC/Cursos_UTEC/Machine_Learning/Proyectos_github/Proyecto_1-MachineLearning/SVM/Grupo_2_Soft_SVM_2023_I.ipynb#X40sZmlsZQ%3D%3D?line=10'>11</a>\u001b[0m \u001b[39mif\u001b[39;00m j \u001b[39m==\u001b[39m y[i]:\n\u001b[0;32m     <a href='vscode-notebook-cell:/c%3A/Users/david/UTEC/Cursos_UTEC/Machine_Learning/Proyectos_github/Proyecto_1-MachineLearning/SVM/Grupo_2_Soft_SVM_2023_I.ipynb#X40sZmlsZQ%3D%3D?line=11'>12</a>\u001b[0m     \u001b[39mcontinue\u001b[39;00m\n\u001b[1;32m---> <a href='vscode-notebook-cell:/c%3A/Users/david/UTEC/Cursos_UTEC/Machine_Learning/Proyectos_github/Proyecto_1-MachineLearning/SVM/Grupo_2_Soft_SVM_2023_I.ipynb#X40sZmlsZQ%3D%3D?line=12'>13</a>\u001b[0m margin \u001b[39m=\u001b[39m scores[j] \u001b[39m-\u001b[39m correct_class_score \u001b[39m+\u001b[39m \u001b[39m1\u001b[39m  \u001b[39m# +1 para la pérdida de margen\u001b[39;00m\n\u001b[0;32m     <a href='vscode-notebook-cell:/c%3A/Users/david/UTEC/Cursos_UTEC/Machine_Learning/Proyectos_github/Proyecto_1-MachineLearning/SVM/Grupo_2_Soft_SVM_2023_I.ipynb#X40sZmlsZQ%3D%3D?line=13'>14</a>\u001b[0m \u001b[39mif\u001b[39;00m margin \u001b[39m>\u001b[39m \u001b[39m0\u001b[39m:\n\u001b[0;32m     <a href='vscode-notebook-cell:/c%3A/Users/david/UTEC/Cursos_UTEC/Machine_Learning/Proyectos_github/Proyecto_1-MachineLearning/SVM/Grupo_2_Soft_SVM_2023_I.ipynb#X40sZmlsZQ%3D%3D?line=14'>15</a>\u001b[0m     hinge_loss \u001b[39m+\u001b[39m\u001b[39m=\u001b[39m margin\n",
            "\u001b[1;31mIndexError\u001b[0m: index 10 is out of bounds for axis 0 with size 10"
          ]
        }
      ],
      "source": [
        "num_epochs = 1000  # Número de épocas (ajusta según sea necesario)\n",
        "num_classes = len(np.unique(y_train))  # Número de clases en el conjunto de datos\n",
        "# X_train = np.array(X_train)\n",
        "# y_train = np.array(y_train)\n",
        "# X_test = np.array(X_test)\n",
        "# y_test = np.array(y_test)\n",
        "# print(num_classes)\n",
        "# # Entrenar el modelo\n",
        "trained_w, trained_b = train(X_train, y_train, num_epochs, num_classes)\n",
        "\n",
        "# # Realizar predicciones en el conjunto de prueba\n",
        "scores = np.dot(X_test, trained_w) + trained_b\n",
        "predicted_labels = np.argmax(scores, axis=1)\n",
        "\n",
        "# # Calcular la precisión\n",
        "accuracy = np.mean(predicted_labels == y_test)\n",
        "print(\"Accuracy:\", accuracy)"
      ]
    }
  ],
  "metadata": {
    "colab": {
      "provenance": []
    },
    "kernelspec": {
      "display_name": "Python 3",
      "name": "python3"
    },
    "language_info": {
      "codemirror_mode": {
        "name": "ipython",
        "version": 3
      },
      "file_extension": ".py",
      "mimetype": "text/x-python",
      "name": "python",
      "nbconvert_exporter": "python",
      "pygments_lexer": "ipython3",
      "version": "3.11.5"
    }
  },
  "nbformat": 4,
  "nbformat_minor": 0
}
