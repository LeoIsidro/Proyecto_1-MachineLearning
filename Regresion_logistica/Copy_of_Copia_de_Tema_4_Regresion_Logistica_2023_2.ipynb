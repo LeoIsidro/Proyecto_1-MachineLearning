{
  "cells": [
    {
      "cell_type": "markdown",
      "metadata": {
        "id": "svopgWO7bExV"
      },
      "source": [
        "## Práctica de Regresión Lógistica: Cancer de mama\n",
        " ----\n",
        "  \n",
        "  Universidad : UTEC \\\\\n",
        "  Curso       : Inteligencia Artificial \\\\\n",
        "  Profesor    : Cristian López Del Alamo \\\\\n",
        "  Tema        : Regresión Lógistica \\\\\n",
        "  \n",
        "\n",
        " ----\n",
        "Nota Añadir el link de colab en : [Click Colab](https://docs.google.com/spreadsheets/d/1XCxGVmf8g29C7RZSPOqxvZHjjRZg45LHWR8mkZOfS1o/edit?usp=sharing)\n",
        "\n",
        " Integrantes:\n",
        " - 1. Luis David Torres (100%)\n",
        " - 2. Christian Alejandro Salazar Albán (100%)\n",
        " - 3. Leonardo Daniel Isidro Salazar (100%)\n",
        " - 4. Pedro Mori (100%)\n",
        "\n"
      ]
    },
    {
      "cell_type": "markdown",
      "metadata": {
        "id": "BiMdtNbVlMTd"
      },
      "source": [
        "**Base de datos**: [Click](https://docs.google.com/spreadsheets/d/137VWC-uXIeWUIy5F2oVkfPqicFeNFU5oUWVsh5om9a4/edit?usp=sharing)\n",
        "\n",
        "El conjunto de datos contiene casos de un estudio realizado entre 1958 y 1970 en el Hospital Billings de la Universidad de Chicago sobre la supervivencia de pacientes que se habían sometido a cirugía por cáncer de mama.\n",
        "\n",
        "La base de datos está formada por 306 objetos, cada objeto tiene 3 características (Edad del paciente al momento de la operación, Años de operación y Número de ganglios axilares positivos detectados) y un predictor (variable a predecir estado de supervivencia, 1 si el paciente vivió, 2 si el paciente murío)\n",
        "\n",
        "*Se pide predecir, en base a las características de un paciente,  si un paciente sobrevivirá o no*"
      ]
    },
    {
      "cell_type": "code",
      "execution_count": 81,
      "metadata": {
        "id": "UDEHxYo2iDYq"
      },
      "outputs": [],
      "source": [
        "import numpy as np\n",
        "import pandas as pd\n",
        "dataset = pd.read_csv('./db.csv')\n",
        "for column in dataset.columns:\n",
        "    if column != 'Clase':\n",
        "        min_value = dataset[column].min()\n",
        "        max_value = dataset[column].max()\n",
        "        dataset[column] = (dataset[column] - min_value) / (max_value - min_value)\n",
        "\n",
        "dataset.insert(0,'BIAS',1)\n",
        "\n"
      ]
    },
    {
      "cell_type": "markdown",
      "metadata": {
        "id": "eF1-EUpeaGvZ"
      },
      "source": [
        "\n",
        "\n",
        "**Hipótesis**:\n",
        "\n",
        "- Ecuación de la recta o Hiperplano\n",
        "\\begin{equation}\n",
        "h(x_i) = w_0 + w_1x_i^1 +  w_2x_i^2 ... w_kx_i^k\n",
        "\\end{equation} \\\\\n",
        "\n",
        "- Ecuación de la función sigmoidea (clasificador binario)\n",
        "\\begin{equation}\n",
        "s(x_i) = \\frac{1}{1 + e^{-h(x_i)}}\n",
        "\\end{equation}\n",
        "\n",
        "\n",
        "\n",
        "\n"
      ]
    },
    {
      "cell_type": "code",
      "execution_count": 82,
      "metadata": {
        "id": "IccO1C-1b6gH"
      },
      "outputs": [],
      "source": [
        "def Hiperplano(x,w):\n",
        "  # write your code here\n",
        "  return np.dot(x,w.T)\n",
        "\n",
        "def S(x,w):\n",
        "  return 1 / (1 + np.exp(-Hiperplano(x,w)))"
      ]
    },
    {
      "cell_type": "markdown",
      "metadata": {
        "id": "TsEclK8ZcDAv"
      },
      "source": [
        "- **Loss Function** (Cross-Entropy)\n",
        "\n",
        "\\begin{equation}\n",
        "L = -\\frac{1}{n}\\sum_{i=0}^n(y_ilog(s(x_i)) + (1-y_i)log(1-s(x_i)))  \n",
        "\\end{equation} \\\\\n"
      ]
    },
    {
      "cell_type": "code",
      "execution_count": 83,
      "metadata": {
        "id": "KDeZtXSecvnb"
      },
      "outputs": [],
      "source": [
        "def Loss_function(x,y,w):\n",
        "  # write your code here\n",
        "  f1=y*np.log(S(x,w))\n",
        "  f2=(1-y)*np.log(1-S(x,w))\n",
        "  f3= np.sum(f1+f2)\n",
        "  return -1/len(y)*(f3)\n",
        "\n"
      ]
    },
    {
      "cell_type": "markdown",
      "metadata": {
        "id": "Y5e7Tbc_c7Y8"
      },
      "source": [
        "- **Derivatives**\n",
        "\n",
        "\\begin{equation}\n",
        "\\frac{\\partial L}{\\partial w_j} = \\frac{1}{n}\\sum_{i=0}^n(y_i - s(x_i))(-x_i^j)\n",
        "\\end{equation} \\\\\n",
        "\n",
        "Nota:  $x_i^j$ se refiere a la característica $j-esima$ del objeto $i-esimo$ de entrenamiento\n"
      ]
    },
    {
      "cell_type": "code",
      "execution_count": 84,
      "metadata": {
        "id": "g4cD0fHuc6_I"
      },
      "outputs": [],
      "source": [
        "def Derivatives(x,y,w):\n",
        "  # write your code here\n",
        "  return np.matmul((y - S(x,w)),-x)/len(y)\n"
      ]
    },
    {
      "cell_type": "markdown",
      "metadata": {
        "id": "h_YvV9kAfQFL"
      },
      "source": [
        "- Change parameters\n",
        "\n",
        "\\begin{equation}\n",
        " w_j = w_i - \\alpha\\frac{\\partial L}{\\partial w_j}\n",
        "\\end{equation}"
      ]
    },
    {
      "cell_type": "code",
      "execution_count": 85,
      "metadata": {
        "id": "sN6Mj8G_fnPA"
      },
      "outputs": [],
      "source": [
        "def change_parameters(w, derivatives, alpha):\n",
        "  # write your code here\n",
        "  return w - alpha * derivatives"
      ]
    },
    {
      "cell_type": "markdown",
      "metadata": {
        "id": "LWEJPUGWfykV"
      },
      "source": [
        "- **Training**\n",
        "\n",
        "Seleccione $70\\%$ de los datos del dataset para entrenamiento y el resto para testing. Recuerde, los datos deben ser seleccionados de manera aleatoría.\n",
        "\n",
        "\n"
      ]
    },
    {
      "cell_type": "code",
      "execution_count": 86,
      "metadata": {
        "id": "-4iDI_owgkIV"
      },
      "outputs": [],
      "source": [
        "def training(x,y, epochs, alpha):\n",
        "  print(len(x))\n",
        "  w=np.ones(x.shape[1])\n",
        "  Loss=[]\n",
        "  for i in range(epochs):\n",
        "    L =  Loss_function(x,y,w)\n",
        "    dw = Derivatives(x,y,w)\n",
        "    w =  change_parameters(w, dw, alpha)\n",
        "    Loss.append(L)\n",
        "  return w,Loss\n",
        "\n"
      ]
    },
    {
      "cell_type": "markdown",
      "metadata": {
        "id": "17O_Nrq5g3Ma"
      },
      "source": [
        "- **Testing**\n",
        "\n",
        "Utilize el $30\\%$ de los datos restantes para el proceso de testing."
      ]
    },
    {
      "cell_type": "code",
      "execution_count": 87,
      "metadata": {
        "id": "_Y7UDBtBg2cs"
      },
      "outputs": [],
      "source": [
        "def Testing(x_test, y_test,w):\n",
        "   y_pred = S(x_test,w)\n",
        "   y_pred = np.round(y_pred)\n",
        "   correctos = np.sum(y_pred == y_test)\n",
        "   print(f\"Número de datos correctos:{correctos}\")\n",
        "   porc_aciertos= (correctos/len(y_test))*100\n",
        "   print(f\"Porcentaje de aciertos:{porc_aciertos}%\")\n",
        "   print(f\"Porcentaje de error:{100-porc_aciertos}%\")\n"
      ]
    },
    {
      "cell_type": "code",
      "execution_count": 88,
      "metadata": {
        "id": "IaWQc4esf17D"
      },
      "outputs": [],
      "source": [
        "def normalizar(x):\n",
        "    for i in range(1,len(x)):\n",
        "        maxi = np.max(x[i])\n",
        "        mini = np.min(x[i])\n",
        "        for j in range(len(x[i])):\n",
        "            x[i][j] = (x[i][j] - mini) / (maxi - mini)\n",
        "    return x"
      ]
    },
    {
      "cell_type": "code",
      "execution_count": 89,
      "metadata": {
        "colab": {
          "base_uri": "https://localhost:8080/"
        },
        "id": "IqkxFpUqCMvt",
        "outputId": "2c6969dc-1148-4c4b-d0c3-d10f6da41bcc"
      },
      "outputs": [
        {
          "name": "stdout",
          "output_type": "stream",
          "text": [
            "214\n"
          ]
        }
      ],
      "source": [
        "#Probando\n",
        "\n",
        "# Calcula el número de filas en el DataFrame\n",
        "num_filas = len(dataset)\n",
        "\n",
        "# Calcula el tamaño del subconjunto del 70%\n",
        "tamanio_subconjunto = int(0.7 * num_filas)\n",
        "\n",
        "# Genera índices aleatorios para seleccionar filas\n",
        "indices_aleatorios = np.random.choice(num_filas, tamanio_subconjunto, replace=False)\n",
        "\n",
        "# Selecciona el 70% de las filas aleatoriamente\n",
        "entrenamiento = dataset.iloc[indices_aleatorios]\n",
        "\n",
        "\n",
        "# Obtiene el 30% restante en otro DataFrame\n",
        "indices_restantes = np.setdiff1d(np.arange(num_filas), indices_aleatorios)\n",
        "testing = dataset.iloc[indices_restantes]\n",
        "\n",
        "x_train = entrenamiento.drop('Clase', axis=1).to_numpy()\n",
        "y_train = entrenamiento['Clase'].to_numpy()\n",
        "\n",
        "x_test = testing.drop('Clase', axis=1).to_numpy()\n",
        "y_test = testing['Clase'].to_numpy()\n",
        "\n",
        "w,loss = training(x_train, y_train, 10000, 0.001)\n"
      ]
    },
    {
      "cell_type": "code",
      "execution_count": 90,
      "metadata": {
        "colab": {
          "base_uri": "https://localhost:8080/",
          "height": 472
        },
        "id": "4Qb7ovQ48bY-",
        "outputId": "c757c52d-f391-4a87-d253-149539df04d6"
      },
      "outputs": [
        {
          "data": {
            "image/png": "[encoded data removed]",
            "text/plain": [
              "<Figure size 640x480 with 1 Axes>"
            ]
          },
          "metadata": {},
          "output_type": "display_data"
        },
        {
          "name": "stdout",
          "output_type": "stream",
          "text": [
            "Número de datos correctos:62\n",
            "Porcentaje de aciertos:67.3913043478261%\n",
            "Porcentaje de error:32.60869565217391%\n"
          ]
        }
      ],
      "source": [
        "import matplotlib.pyplot as plt\n",
        "def plot_loss(loss):\n",
        "    plt.figure()\n",
        "    plt.plot(loss)\n",
        "    plt.title(\"loss function\")\n",
        "    plt.xlabel(\"Epohs\")\n",
        "    plt.ylabel(\"Loss\")\n",
        "    plt.show()\n",
        "\n",
        "plot_loss(loss)\n",
        "Testing(x_test,y_test,w)"
      ]
    },
    {
      "cell_type": "markdown",
      "metadata": {
        "id": "Th-ybXehkbAa"
      },
      "source": [
        "## Desarrolle las siguientes actividades\n",
        "\n",
        "- Implemente funciones para graficar la función de pérdida.\n",
        "- Implemente la función para mostrar las funciones de error de training vs testing\n",
        "- ¿Qué porcentaje de aciertos tiene el método?\n",
        "- ¿Qué porcentaje de fallas tiene el método?\n",
        "\n",
        "\n"
      ]
    },
    {
      "cell_type": "markdown",
      "metadata": {
        "id": "nnIBN6QAqOmG"
      },
      "source": [
        "Un exelente libro: [click](http://users.isr.ist.utl.pt/~wurmd/Livros/school/Bishop%20-%20Pattern%20Recognition%20And%20Machine%20Learning%20-%20Springer%20%202006.pdf)"
      ]
    }
  ],
  "metadata": {
    "colab": {
      "provenance": []
    },
    "kernelspec": {
      "display_name": "Python 3",
      "name": "python3"
    },
    "language_info": {
      "codemirror_mode": {
        "name": "ipython",
        "version": 3
      },
      "file_extension": ".py",
      "mimetype": "text/x-python",
      "name": "python",
      "nbconvert_exporter": "python",
      "pygments_lexer": "ipython3",
      "version": "3.11.5"
    }
  },
  "nbformat": 4,
  "nbformat_minor": 0
}
