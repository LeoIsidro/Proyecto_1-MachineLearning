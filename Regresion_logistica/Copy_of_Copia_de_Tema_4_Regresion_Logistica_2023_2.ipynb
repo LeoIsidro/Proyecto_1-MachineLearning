{
  "cells": [
    {
      "cell_type": "code",
      "execution_count": 1,
      "metadata": {},
      "outputs": [
        {
          "name": "stderr",
          "output_type": "stream",
          "text": [
            "c:\\Users\\pm114\\anaconda3\\Lib\\site-packages\\paramiko\\transport.py:219: CryptographyDeprecationWarning: Blowfish has been deprecated\n",
            "  \"class\": algorithms.Blowfish,\n"
          ]
        }
      ],
      "source": [
        "import numpy as np\n",
        "import pandas as pd\n",
        "from  skimage.io import imread, imshow\n",
        "from pathlib import Path\n",
        "import pywt\n",
        "import pywt.data\n",
        "from PIL import Image\n",
        "import os\n",
        "from sklearn.model_selection import train_test_split\n",
        "from sklearn.preprocessing import MinMaxScaler"
      ]
    },
    {
      "cell_type": "code",
      "execution_count": 2,
      "metadata": {},
      "outputs": [],
      "source": [
        "def get_feature(picture, cortes):\n",
        "  LL = picture\n",
        "  for i in range(cortes):\n",
        "     LL, (LH, HL, HH) = pywt.dwt2(LL, 'haar')\n",
        "  return LL.flatten().tolist()"
      ]
    },
    {
      "cell_type": "code",
      "execution_count": 3,
      "metadata": {},
      "outputs": [],
      "source": [
        "path = \"../imagenes_1/\"\n",
        "cv = []\n",
        "entries = Path(path)\n",
        "for entry in entries.iterdir():\n",
        "  img = path + entry.name\n",
        "  picture = imread(img)\n",
        "  cv.append(get_feature(picture,2) + [entry.name[1:3]])\n",
        "\n",
        "#print(cv[0][len(cv)-1])"
      ]
    },
    {
      "cell_type": "code",
      "execution_count": 30,
      "metadata": {
        "id": "UDEHxYo2iDYq"
      },
      "outputs": [
        {
          "name": "stdout",
          "output_type": "stream",
          "text": [
            "[[0.51985294 0.53578431 0.48872549 ... 0.58455882 0.62107843 0.        ]\n",
            " [0.         0.         0.         ... 0.         0.         0.        ]\n",
            " [1.         1.         1.         ... 1.         1.         0.        ]\n",
            " ...\n",
            " [0.26470588 0.35490196 0.38137255 ... 0.30392157 0.30882353 1.        ]\n",
            " [0.37009804 0.48357843 0.45710784 ... 0.62941176 0.63823529 1.        ]\n",
            " [0.58529412 0.51127451 0.59583333 ... 0.26470588 0.27671569 1.        ]]\n"
          ]
        }
      ],
      "source": [
        "# Normalize data\n",
        "scaler = MinMaxScaler()\n",
        "normalized_data = scaler.fit_transform(cv)\n",
        "print(normalized_data)\n"
      ]
    },
    {
      "cell_type": "code",
      "execution_count": 4,
      "metadata": {},
      "outputs": [
        {
          "name": "stdout",
          "output_type": "stream",
          "text": [
            "       0        1        2        3        4        5        6        7      \\\n",
            "0     530.25   546.50   498.50   504.50   489.25   416.00   359.25   430.25   \n",
            "1       0.00     0.00     0.00     0.00     0.00     0.00     0.00     0.00   \n",
            "2    1020.00  1020.00  1020.00  1018.00  1018.00  1018.00  1019.00  1020.00   \n",
            "3    1020.00  1020.00  1020.00  1020.00  1020.00  1019.00  1019.00  1020.00   \n",
            "4     215.00   306.25   279.75   334.75   233.00   255.75   306.75   282.00   \n",
            "..       ...      ...      ...      ...      ...      ...      ...      ...   \n",
            "827   204.00   204.00   204.00   204.00   204.00   204.00   204.00   204.00   \n",
            "828   371.50   346.50   345.00   381.25   398.25   333.25   481.00   409.50   \n",
            "829   270.00   362.00   389.00   404.00   397.00   351.00   301.75   475.00   \n",
            "830   377.50   493.25   466.25   497.50   471.00   377.25   387.00   401.00   \n",
            "831   597.00   521.50   607.75   527.50   457.00   476.25   477.75   499.00   \n",
            "\n",
            "       8        9      ...    14991    14992    14993    14994    14995  \\\n",
            "0     665.00   753.25  ...   602.75   611.50   453.25   463.75   585.25   \n",
            "1       0.00     0.00  ...     0.00     0.00     0.00     0.00     0.00   \n",
            "2    1020.00  1020.00  ...  1020.00  1020.00  1020.00  1020.00  1020.00   \n",
            "3    1020.00  1020.00  ...  1020.00  1020.00  1020.00  1020.00  1020.00   \n",
            "4     140.50   144.50  ...    46.75    53.50    53.00    74.00    65.75   \n",
            "..       ...      ...  ...      ...      ...      ...      ...      ...   \n",
            "827   204.00   204.00  ...   204.00   204.00   204.00   204.00   204.00   \n",
            "828   349.50   311.00  ...   383.00   430.75   472.25   479.00   487.75   \n",
            "829   761.75   904.00  ...   362.00   428.75   466.00   457.75   412.00   \n",
            "830   433.00   465.50  ...   683.00   636.00   596.00   613.00   580.00   \n",
            "831   537.25   552.75  ...   335.00   314.50   308.75   294.25   280.50   \n",
            "\n",
            "       14996    14997    14998    14999  15000  \n",
            "0     517.00   515.25   596.25   633.50     01  \n",
            "1       0.00     0.00     0.00     0.00     01  \n",
            "2    1020.00  1020.00  1020.00  1020.00     01  \n",
            "3    1020.00  1020.00  1020.00  1020.00     01  \n",
            "4     114.75    93.00    60.25    50.75     01  \n",
            "..       ...      ...      ...      ...    ...  \n",
            "827   204.00   204.00   204.00   204.00     10  \n",
            "828   485.00   502.00   488.75   492.75     10  \n",
            "829   394.25   333.00   310.00   315.00     10  \n",
            "830   594.00   648.00   642.00   651.00     10  \n",
            "831   275.75   272.25   270.00   282.25     10  \n",
            "\n",
            "[832 rows x 15001 columns]\n"
          ]
        }
      ],
      "source": [
        "dataset = pd.DataFrame(cv)\n",
        "#dataset.insert(0,'BIAS',1)\n",
        "\n",
        "print(dataset)"
      ]
    },
    {
      "cell_type": "markdown",
      "metadata": {
        "id": "eF1-EUpeaGvZ"
      },
      "source": [
        "\n",
        "\n",
        "**Hipótesis**:\n",
        "\n",
        "- Ecuación de la recta o Hiperplano\n",
        "\\begin{equation}\n",
        "h(x_i) = w_0 + w_1x_i^1 +  w_2x_i^2 ... w_kx_i^k\n",
        "\\end{equation} \\\\\n",
        "\n",
        "- Ecuación de la función sigmoidea (clasificador binario)\n",
        "\\begin{equation}\n",
        "s(x_i) = \\frac{1}{1 + e^{-h(x_i)}}\n",
        "\\end{equation}\n",
        "\n",
        "\n",
        "\n",
        "\n"
      ]
    },
    {
      "cell_type": "code",
      "execution_count": 32,
      "metadata": {
        "id": "IccO1C-1b6gH"
      },
      "outputs": [],
      "source": [
        "def H(x,w):\n",
        "  return np.dot(x,w.T)\n",
        "\n",
        "def S(x,w):\n",
        "  return 1 / (1 + np.exp(-H(x,w)))"
      ]
    },
    {
      "cell_type": "markdown",
      "metadata": {
        "id": "TsEclK8ZcDAv"
      },
      "source": [
        "- **Loss Function** (Cross-Entropy)\n",
        "\n",
        "\\begin{equation}\n",
        "L = -\\frac{1}{n}\\sum_{i=0}^n(y_ilog(s(x_i)) + (1-y_i)log(1-s(x_i)))  \n",
        "\\end{equation} \\\\\n"
      ]
    },
    {
      "cell_type": "code",
      "execution_count": 33,
      "metadata": {
        "id": "KDeZtXSecvnb"
      },
      "outputs": [],
      "source": [
        "def Loss_function(x,y,w):\n",
        "  f1=y*np.log(S(x,w))\n",
        "  f2=(1-y)*np.log(1-S(x,w))\n",
        "  f3= np.sum(f1+f2)\n",
        "  return -1/len(y)*(f3)"
      ]
    },
    {
      "cell_type": "markdown",
      "metadata": {
        "id": "Y5e7Tbc_c7Y8"
      },
      "source": [
        "- **Derivatives**\n",
        "\n",
        "\\begin{equation}\n",
        "\\frac{\\partial L}{\\partial w_j} = \\frac{1}{n}\\sum_{i=0}^n(y_i - s(x_i))(-x_i^j)\n",
        "\\end{equation} \\\\\n",
        "\n",
        "Nota:  $x_i^j$ se refiere a la característica $j-esima$ del objeto $i-esimo$ de entrenamiento\n"
      ]
    },
    {
      "cell_type": "code",
      "execution_count": 34,
      "metadata": {
        "id": "g4cD0fHuc6_I"
      },
      "outputs": [],
      "source": [
        "def D(x,y,w):\n",
        "  n = len(x[0])\n",
        "  num = len(w)\n",
        "  gradient = [0.0] * num\n",
        "\n",
        "  for i in range(num):\n",
        "    sum_acum = 0.0\n",
        "    for j in range(n):\n",
        "      sum_acum += (y[j] - S(x[j],w)) * (-x[i][j])\n",
        "    gradient[i] = (1.0/n) * sum_acum\n",
        "  return gradient\n",
        "\n",
        "#def D(x,y,w):\n",
        "#  return np.matmul((y - S(x,w)),-x)/len(y)"
      ]
    },
    {
      "cell_type": "markdown",
      "metadata": {
        "id": "h_YvV9kAfQFL"
      },
      "source": [
        "- Change parameters\n",
        "\n",
        "\\begin{equation}\n",
        " w_j = w_i - \\alpha\\frac{\\partial L}{\\partial w_j}\n",
        "\\end{equation}"
      ]
    },
    {
      "cell_type": "code",
      "execution_count": 35,
      "metadata": {
        "id": "sN6Mj8G_fnPA"
      },
      "outputs": [],
      "source": [
        "def change_parameters(w, derivatives, alpha):\n",
        "  w_n = [0.0]*len(w)\n",
        "  for j in range(len(w)):\n",
        "    w_n[j] = w[j] - alpha * derivatives[j]\n",
        "  return w_n\n",
        "\n",
        "  #return w - (alpha * derivatives)"
      ]
    },
    {
      "cell_type": "code",
      "execution_count": 36,
      "metadata": {
        "id": "-4iDI_owgkIV"
      },
      "outputs": [],
      "source": [
        "def training(x,y, epochs, alpha):\n",
        "  print(len(x))\n",
        "  w=np.ones(x.shape[1])\n",
        "  Loss=[]\n",
        "  for i in range(epochs):\n",
        "    L =  Loss_function(x,y,w)\n",
        "    dw = D(x,y,w)\n",
        "    w =  change_parameters(w, dw, alpha)\n",
        "    Loss.append(L)\n",
        "  return w,Loss"
      ]
    },
    {
      "cell_type": "code",
      "execution_count": 37,
      "metadata": {
        "id": "_Y7UDBtBg2cs"
      },
      "outputs": [],
      "source": [
        "def Testing(x_test, y_test,w):\n",
        "   y_pred = S(x_test,w)\n",
        "   y_pred = np.round(y_pred)\n",
        "   correctos = np.sum(y_pred == y_test)\n",
        "   print(f\"Número de datos correctos:{correctos}\")\n",
        "   porc_aciertos= (correctos/len(y_test))*100\n",
        "   print(f\"Porcentaje de aciertos:{porc_aciertos}%\")\n",
        "   print(f\"Porcentaje de error:{100-porc_aciertos}%\")\n"
      ]
    },
    {
      "cell_type": "code",
      "execution_count": 38,
      "metadata": {},
      "outputs": [
        {
          "ename": "NameError",
          "evalue": "name 'Y' is not defined",
          "output_type": "error",
          "traceback": [
            "\u001b[1;31m---------------------------------------------------------------------------\u001b[0m",
            "\u001b[1;31mNameError\u001b[0m                                 Traceback (most recent call last)",
            "Cell \u001b[1;32mIn[38], line 1\u001b[0m\n\u001b[1;32m----> 1\u001b[0m x_train, x_test, y_train, y_test \u001b[39m=\u001b[39m train_test_split(X, Y, test_size\u001b[39m=\u001b[39m\u001b[39m0.2\u001b[39m, random_state\u001b[39m=\u001b[39m\u001b[39m42\u001b[39m)\n",
            "\u001b[1;31mNameError\u001b[0m: name 'Y' is not defined"
          ]
        }
      ],
      "source": [
        "x_train, x_test, y_train, y_test = train_test_split(X, Y, test_size=0.2, random_state=42)\n"
      ]
    },
    {
      "cell_type": "code",
      "execution_count": null,
      "metadata": {
        "colab": {
          "base_uri": "https://localhost:8080/",
          "height": 472
        },
        "id": "4Qb7ovQ48bY-",
        "outputId": "c757c52d-f391-4a87-d253-149539df04d6"
      },
      "outputs": [],
      "source": [
        "# import matplotlib.pyplot as plt\n",
        "# def plot_loss(loss):\n",
        "#     plt.figure()\n",
        "#     plt.plot(loss)\n",
        "#     plt.title(\"loss function\")\n",
        "#     plt.xlabel(\"Epohs\")\n",
        "#     plt.ylabel(\"Loss\")\n",
        "#     plt.show()\n",
        "\n",
        "# plot_loss(loss)\n",
        "# Testing(x_test,y_test,w)"
      ]
    }
  ],
  "metadata": {
    "colab": {
      "provenance": []
    },
    "kernelspec": {
      "display_name": "Python 3",
      "name": "python3"
    },
    "language_info": {
      "codemirror_mode": {
        "name": "ipython",
        "version": 3
      },
      "file_extension": ".py",
      "mimetype": "text/x-python",
      "name": "python",
      "nbconvert_exporter": "python",
      "pygments_lexer": "ipython3",
      "version": "3.11.4"
    }
  },
  "nbformat": 4,
  "nbformat_minor": 0
}
